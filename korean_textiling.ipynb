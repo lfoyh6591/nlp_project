{
 "cells": [
  {
   "cell_type": "code",
   "execution_count": 1,
   "metadata": {},
   "outputs": [
    {
     "name": "stderr",
     "output_type": "stream",
     "text": [
      "[nltk_data] Downloading package stopwords to\n",
      "[nltk_data]     /home/lfoyh6591/nltk_data...\n",
      "[nltk_data]   Package stopwords is already up-to-date!\n"
     ]
    }
   ],
   "source": [
    "import numpy as np\n",
    "import pandas as pd\n",
    "import os\n",
    "import glob\n",
    "import re\n",
    "import textiling\n",
    "import segmentation\n",
    "import nltk\n",
    "nltk.download('stopwords')\n",
    "from sentence_transformers import SentenceTransformer\n",
    "\n",
    "import konlpy\n",
    "from konlpy.tag import Okt\n",
    "import matplotlib.pylab as plt\n",
    "%matplotlib inline\n"
   ]
  },
  {
   "cell_type": "code",
   "execution_count": 15,
   "metadata": {},
   "outputs": [],
   "source": [
    "def load_data(name, version):\n",
    "    path = name + \"_\" + version + \"_data.txt\"\n",
    "    text = \"\"\n",
    "    with open(path, \"r\") as f:\n",
    "        lines = f.readlines()\n",
    "\n",
    "    for line in lines:\n",
    "        text += line\n",
    "\n",
    "    return text\n",
    "\n",
    "kakao_origin = load_data(\"kakao\", \"origin\")\n",
    "kakao_stem = load_data(\"kakao\", \"stem\")\n",
    "band_origin = load_data(\"band\", \"origin\")\n",
    "band_stem = load_data(\"band\", \"stem\")"
   ]
  },
  {
   "cell_type": "code",
   "execution_count": 16,
   "metadata": {},
   "outputs": [
    {
     "ename": "TypeError",
     "evalue": "tokenize() got an unexpected keyword argument 'mod'",
     "output_type": "error",
     "traceback": [
      "\u001b[0;31m---------------------------------------------------------------------------\u001b[0m",
      "\u001b[0;31mTypeError\u001b[0m                                 Traceback (most recent call last)",
      "Cell \u001b[0;32mIn[16], line 4\u001b[0m\n\u001b[1;32m      2\u001b[0m kakao_cos_tt \u001b[39m=\u001b[39m tt\u001b[39m.\u001b[39mtokenize(kakao_origin, mode \u001b[39m=\u001b[39m \u001b[39m\"\u001b[39m\u001b[39mcos\u001b[39m\u001b[39m\"\u001b[39m)\n\u001b[1;32m      3\u001b[0m kakao_origin_tt \u001b[39m=\u001b[39m tt\u001b[39m.\u001b[39mtokenize(kakao_stem, mode \u001b[39m=\u001b[39m \u001b[39m\"\u001b[39m\u001b[39morigin\u001b[39m\u001b[39m\"\u001b[39m)\n\u001b[0;32m----> 4\u001b[0m band_cos_tt \u001b[39m=\u001b[39m tt\u001b[39m.\u001b[39;49mtokenize(band_origin, mod \u001b[39m=\u001b[39;49m \u001b[39m\"\u001b[39;49m\u001b[39mcos\u001b[39;49m\u001b[39m\"\u001b[39;49m)\n\u001b[1;32m      5\u001b[0m band_origin_tt \u001b[39m=\u001b[39m tt\u001b[39m.\u001b[39mtokenize(band_stem, mod \u001b[39m=\u001b[39m \u001b[39m\"\u001b[39m\u001b[39morigin\u001b[39m\u001b[39m\"\u001b[39m)\n",
      "\u001b[0;31mTypeError\u001b[0m: tokenize() got an unexpected keyword argument 'mod'"
     ]
    }
   ],
   "source": [
    "tt = textiling.TextTilingTokenizer()\n",
    "kakao_cos_tt = tt.tokenize(kakao_origin, mode = \"cos\")\n",
    "kakao_origin_tt = tt.tokenize(kakao_stem, mode = \"origin\")\n",
    "band_cos_tt = tt.tokenize(band_origin, mode = \"cos\")\n",
    "band_origin_tt = tt.tokenize(band_stem, mode = \"origin\")"
   ]
  },
  {
   "cell_type": "code",
   "execution_count": null,
   "metadata": {},
   "outputs": [],
   "source": [
    "def origin_pred(tt):\n",
    "    origin_label = [0]\n",
    "    for origin_t in tt:\n",
    "        origin_label.append(origin_label[-1] + len(origin_t.strip().split(\"\\n\\n\\t\")))\n",
    "\n",
    "    return origin_label[1:]\n",
    "\n",
    "def cos_pred(tt):\n",
    "    cos_label = [0]\n",
    "    for cos_t in tt:\n",
    "        cos_label.append(cos_label[-1] + len(cos_t.split(\"\\n\")))\n",
    "\n",
    "    return cos_label[1:]\n",
    "\n",
    "kakao_origin_pred = origin_pred(kakao_origin_tt)\n",
    "kakao_cos_pred = cos_pred(kakao_cos_tt)\n",
    "band_origin_pred = origin_pred(band_origin_tt)\n",
    "band_cos_pred = cos_pred(band_cos_tt)"
   ]
  },
  {
   "cell_type": "code",
   "execution_count": null,
   "metadata": {},
   "outputs": [],
   "source": [
    "def load_label(data_name):\n",
    "    with open(data_name+\"_label.txt\") as f:\n",
    "        label = [int(x) for x in f.readline().strip().split(\" \")]\n",
    "    return label\n",
    "\n",
    "kakao_label = load_label(\"kakao\")\n",
    "band_label = load_label(\"band\")"
   ]
  },
  {
   "cell_type": "code",
   "execution_count": null,
   "metadata": {},
   "outputs": [],
   "source": [
    "def draw_graph(label, cos_pred, origin_pred):\n",
    "    plt.figure(figsize=(20,2))\n",
    "    for i in (label):\n",
    "        plt.axvline(x = i, color=\"r\", linewidth = 1)\n",
    "    for i in (cos_pred):\n",
    "        plt.axvline(x = i, color=\"b\", linewidth = 1)\n",
    "    for i in (origin_pred):\n",
    "        plt.axvline(x = i, color=\"y\", linewidth = 1)\n",
    "    plt.legend()\n",
    "    plt.show()"
   ]
  },
  {
   "cell_type": "code",
   "execution_count": null,
   "metadata": {},
   "outputs": [],
   "source": [
    "draw_graph(kakao_label, kakao_cos_pred, kakao_origin_pred)"
   ]
  },
  {
   "cell_type": "code",
   "execution_count": null,
   "metadata": {},
   "outputs": [],
   "source": [
    "draw_graph(band_label, band_cos_pred, band_origin_pred)"
   ]
  },
  {
   "cell_type": "code",
   "execution_count": null,
   "metadata": {},
   "outputs": [],
   "source": [
    "def evaluate_windowdiff(label, pred, n):\n",
    "    label_s = \"\"\n",
    "    pred_s = \"\"\n",
    "    for i in range(label[-1]+1):\n",
    "        if i in label:\n",
    "            label_s += \"1\"\n",
    "        else:\n",
    "            label_s += \"0\"\n",
    "\n",
    "        if i in pred:\n",
    "            pred_s += \"1\"\n",
    "        else:\n",
    "            pred_s += \"0\"\n",
    "\n",
    "    return segmentation.windowdiff(label, pred, n)\n"
   ]
  }
 ],
 "metadata": {
  "kernelspec": {
   "display_name": "Python 3.8.2 64-bit ('3.8.2')",
   "language": "python",
   "name": "python3"
  },
  "language_info": {
   "codemirror_mode": {
    "name": "ipython",
    "version": 3
   },
   "file_extension": ".py",
   "mimetype": "text/x-python",
   "name": "python",
   "nbconvert_exporter": "python",
   "pygments_lexer": "ipython3",
   "version": "3.8.2"
  },
  "orig_nbformat": 4,
  "vscode": {
   "interpreter": {
    "hash": "b53045254e8a726d67e9aedd93b4694c7b0ba470b0e3efc589a91bac98bd4be9"
   }
  }
 },
 "nbformat": 4,
 "nbformat_minor": 2
}
