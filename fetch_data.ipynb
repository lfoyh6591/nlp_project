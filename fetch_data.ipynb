{
 "cells": [
  {
   "cell_type": "code",
   "execution_count": null,
   "metadata": {},
   "outputs": [],
   "source": [
    "import numpy as np\n",
    "import pandas as pd\n",
    "import os\n",
    "import glob\n",
    "\n",
    "import konlpy\n",
    "from konlpy.tag import Okt\n",
    "\n",
    "os.mkdir(\"./texts\")"
   ]
  },
  {
   "cell_type": "code",
   "execution_count": 48,
   "metadata": {},
   "outputs": [],
   "source": [
    "band_data_path = \"./data/1.Training/original/TS_04. BAND/\"\n",
    "kakao_data_path = \"./data/1.Training/original/TS_01. KAKAO(1)/\"\n",
    "insta_data_path = \"./data/1.Training/original/TS_03. INSTAGRAM/\"\n",
    "save_dir = \"./texts/\""
   ]
  },
  {
   "cell_type": "code",
   "execution_count": 49,
   "metadata": {},
   "outputs": [],
   "source": [
    "def fetch_data(path):\n",
    "    text = []\n",
    "    for i in glob.glob(path+\"*\"):\n",
    "        with open(i, 'r') as f:\n",
    "            text.append(f.readlines())\n",
    "\n",
    "    return text"
   ]
  },
  {
   "cell_type": "code",
   "execution_count": 50,
   "metadata": {},
   "outputs": [],
   "source": [
    "def save_label(name, text, n):\n",
    "    label = [0]\n",
    "    for i in range(n):\n",
    "        label.append(len(text[i]) + label[-1])\n",
    "\n",
    "    with open(name + \"_label.txt\", \"w\") as f:\n",
    "        for l in label[1:]:\n",
    "            f.write(str(l)+\" \")\n",
    "            \n",
    "    return label[1:]"
   ]
  },
  {
   "cell_type": "code",
   "execution_count": 51,
   "metadata": {},
   "outputs": [],
   "source": [
    "def save_data(name, text, n, version):\n",
    "    raw_text = \"\"\n",
    "\n",
    "    if version == \"original\":\n",
    "        for t in text[:n]:\n",
    "            for j in t:\n",
    "                raw_text += \"\\n\\n\\t\"\n",
    "                raw_text += j[4:]\n",
    "            raw_text += \"\\n\"\n",
    "\n",
    "        with open(name + \"_origin_data.txt\", \"w\") as f:\n",
    "            f.write(raw_text)\n",
    "\n",
    "    elif version == \"stemming\":\n",
    "        okt = Okt()\n",
    "        for t in text[:n]:\n",
    "            for j in t:\n",
    "                raw_text += \"\\n\\n\\t\"\n",
    "                morph = okt.morphs(j[4:])\n",
    "                raw_text += \" \".join(morph)\n",
    "            raw_text += \"\\n\"\n",
    "\n",
    "        with open(name + \"_stem_data.txt\", \"w\") as f:\n",
    "            f.write(raw_text)\n",
    "\n",
    "    return raw_text"
   ]
  },
  {
   "cell_type": "code",
   "execution_count": 52,
   "metadata": {},
   "outputs": [
    {
     "ename": "KeyboardInterrupt",
     "evalue": "",
     "output_type": "error",
     "traceback": [
      "\u001b[0;31m---------------------------------------------------------------------------\u001b[0m",
      "\u001b[0;31mKeyboardInterrupt\u001b[0m                         Traceback (most recent call last)",
      "Cell \u001b[0;32mIn[52], line 3\u001b[0m\n\u001b[1;32m      1\u001b[0m kakao_texts \u001b[39m=\u001b[39m fetch_data(kakao_data_path)\n\u001b[1;32m      2\u001b[0m band_texts \u001b[39m=\u001b[39m fetch_data(band_data_path)\n\u001b[0;32m----> 3\u001b[0m insta_texts \u001b[39m=\u001b[39m fetch_data(insta_data_path)\n\u001b[1;32m      4\u001b[0m save_label(\u001b[39m\"\u001b[39m\u001b[39mkakao\u001b[39m\u001b[39m\"\u001b[39m, kakao_texts, \u001b[39m20\u001b[39m)\n\u001b[1;32m      5\u001b[0m save_label(\u001b[39m\"\u001b[39m\u001b[39mband\u001b[39m\u001b[39m\"\u001b[39m, band_texts, \u001b[39m20\u001b[39m)\n",
      "Cell \u001b[0;32mIn[49], line 4\u001b[0m, in \u001b[0;36mfetch_data\u001b[0;34m(path)\u001b[0m\n\u001b[1;32m      2\u001b[0m text \u001b[39m=\u001b[39m []\n\u001b[1;32m      3\u001b[0m \u001b[39mfor\u001b[39;00m i \u001b[39min\u001b[39;00m glob\u001b[39m.\u001b[39mglob(path\u001b[39m+\u001b[39m\u001b[39m\"\u001b[39m\u001b[39m*\u001b[39m\u001b[39m\"\u001b[39m):\n\u001b[0;32m----> 4\u001b[0m     \u001b[39mwith\u001b[39;00m \u001b[39mopen\u001b[39;49m(i, \u001b[39m'\u001b[39;49m\u001b[39mr\u001b[39;49m\u001b[39m'\u001b[39;49m) \u001b[39mas\u001b[39;00m f:\n\u001b[1;32m      5\u001b[0m         text\u001b[39m.\u001b[39mappend(f\u001b[39m.\u001b[39mreadlines())\n\u001b[1;32m      7\u001b[0m \u001b[39mreturn\u001b[39;00m text\n",
      "File \u001b[0;32m~/.pyenv/versions/3.8.2/lib/python3.8/site-packages/IPython/core/interactiveshell.py:282\u001b[0m, in \u001b[0;36m_modified_open\u001b[0;34m(file, *args, **kwargs)\u001b[0m\n\u001b[1;32m    275\u001b[0m \u001b[39mif\u001b[39;00m file \u001b[39min\u001b[39;00m {\u001b[39m0\u001b[39m, \u001b[39m1\u001b[39m, \u001b[39m2\u001b[39m}:\n\u001b[1;32m    276\u001b[0m     \u001b[39mraise\u001b[39;00m \u001b[39mValueError\u001b[39;00m(\n\u001b[1;32m    277\u001b[0m         \u001b[39mf\u001b[39m\u001b[39m\"\u001b[39m\u001b[39mIPython won\u001b[39m\u001b[39m'\u001b[39m\u001b[39mt let you open fd=\u001b[39m\u001b[39m{\u001b[39;00mfile\u001b[39m}\u001b[39;00m\u001b[39m by default \u001b[39m\u001b[39m\"\u001b[39m\n\u001b[1;32m    278\u001b[0m         \u001b[39m\"\u001b[39m\u001b[39mas it is likely to crash IPython. If you know what you are doing, \u001b[39m\u001b[39m\"\u001b[39m\n\u001b[1;32m    279\u001b[0m         \u001b[39m\"\u001b[39m\u001b[39myou can use builtins\u001b[39m\u001b[39m'\u001b[39m\u001b[39m open.\u001b[39m\u001b[39m\"\u001b[39m\n\u001b[1;32m    280\u001b[0m     )\n\u001b[0;32m--> 282\u001b[0m \u001b[39mreturn\u001b[39;00m io_open(file, \u001b[39m*\u001b[39;49margs, \u001b[39m*\u001b[39;49m\u001b[39m*\u001b[39;49mkwargs)\n",
      "File \u001b[0;32m~/.pyenv/versions/3.8.2/lib/python3.8/_bootlocale.py:33\u001b[0m, in \u001b[0;36mgetpreferredencoding\u001b[0;34m(do_setlocale)\u001b[0m\n\u001b[1;32m     31\u001b[0m             \u001b[39mreturn\u001b[39;00m locale\u001b[39m.\u001b[39mgetpreferredencoding(do_setlocale)\n\u001b[1;32m     32\u001b[0m \u001b[39melse\u001b[39;00m:\n\u001b[0;32m---> 33\u001b[0m     \u001b[39mdef\u001b[39;00m \u001b[39mgetpreferredencoding\u001b[39m(do_setlocale\u001b[39m=\u001b[39m\u001b[39mTrue\u001b[39;00m):\n\u001b[1;32m     34\u001b[0m         \u001b[39massert\u001b[39;00m \u001b[39mnot\u001b[39;00m do_setlocale\n\u001b[1;32m     35\u001b[0m         \u001b[39mif\u001b[39;00m sys\u001b[39m.\u001b[39mflags\u001b[39m.\u001b[39mutf8_mode:\n",
      "\u001b[0;31mKeyboardInterrupt\u001b[0m: "
     ]
    }
   ],
   "source": [
    "kakao_texts = fetch_data(kakao_data_path)\n",
    "band_texts = fetch_data(band_data_path)\n",
    "insta_texts = fetch_data(insta_data_path)\n",
    "save_label(\"kakao\", kakao_texts, 20)\n",
    "save_label(\"band\", band_texts, 20)\n",
    "save_label(\"insta\", insta_texts, 20)\n",
    "save_data(\"kakao\", kakao_texts, 20, \"stemming\")\n",
    "save_data(\"kakao\", kakao_texts, 20, \"original\")\n",
    "save_data(\"band\", band_texts, 20, \"stemming\")\n",
    "save_data(\"band\", band_texts, 20, \"original\")\n",
    "save_data(\"insta\", insta_texts, 20, \"stemming\")\n",
    "save_data(\"insta\", insta_texts, 20, \"original\")"
   ]
  }
 ],
 "metadata": {
  "kernelspec": {
   "display_name": "Python 3.8.2 64-bit ('3.8.2')",
   "language": "python",
   "name": "python3"
  },
  "language_info": {
   "codemirror_mode": {
    "name": "ipython",
    "version": 3
   },
   "file_extension": ".py",
   "mimetype": "text/x-python",
   "name": "python",
   "nbconvert_exporter": "python",
   "pygments_lexer": "ipython3",
   "version": "3.8.2"
  },
  "orig_nbformat": 4,
  "vscode": {
   "interpreter": {
    "hash": "b53045254e8a726d67e9aedd93b4694c7b0ba470b0e3efc589a91bac98bd4be9"
   }
  }
 },
 "nbformat": 4,
 "nbformat_minor": 2
}
