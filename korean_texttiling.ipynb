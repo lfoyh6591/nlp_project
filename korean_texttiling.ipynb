{
 "cells": [
  {
   "cell_type": "code",
   "execution_count": 24,
   "metadata": {},
   "outputs": [],
   "source": [
    "import numpy as np\n",
    "import pandas as pd\n",
    "import os\n",
    "import glob\n",
    "import re\n",
    "import textiling\n",
    "import segmentation\n",
    "import nltk\n",
    "from sentence_transformers import SentenceTransformer\n",
    "\n",
    "import konlpy\n",
    "from konlpy.tag import Okt\n",
    "import matplotlib.pylab as plt\n",
    "%matplotlib inline\n"
   ]
  },
  {
   "cell_type": "code",
   "execution_count": 25,
   "metadata": {},
   "outputs": [],
   "source": [
    "dir_path = \"./texts/\""
   ]
  },
  {
   "cell_type": "code",
   "execution_count": 26,
   "metadata": {},
   "outputs": [],
   "source": [
    "def load_data(name, version):\n",
    "    path = dir_path + name + \"_\" + version + \"_data.txt\"\n",
    "    text = \"\"\n",
    "    with open(path, \"r\") as f:\n",
    "        lines = f.readlines()\n",
    "\n",
    "    for line in lines:\n",
    "        text += line\n",
    "\n",
    "    return text\n",
    "\n",
    "kakao_origin = load_data(\"kakao\", \"origin\")\n",
    "kakao_stem = load_data(\"kakao\", \"stem\")\n",
    "band_origin = load_data(\"band\", \"origin\")\n",
    "band_stem = load_data(\"band\", \"stem\")\n",
    "nate_origin = load_data(\"nate\", \"origin\")\n",
    "nate_stem = load_data(\"nate\", \"stem\")"
   ]
  },
  {
   "cell_type": "code",
   "execution_count": 27,
   "metadata": {},
   "outputs": [],
   "source": [
    "tt = textiling.TextTilingTokenizer()\n",
    "kakao_cos_tt = tt.tokenize(kakao_origin, mode = \"cos\")\n",
    "kakao_origin_tt = tt.tokenize(kakao_stem, mode = \"origin\")\n",
    "band_cos_tt = tt.tokenize(band_origin, mode = \"cos\")\n",
    "band_origin_tt = tt.tokenize(band_stem, mode = \"origin\")\n",
    "nate_cos_tt = tt.tokenize(nate_origin, mode = \"cos\")\n",
    "nate_origin_tt = tt.tokenize(nate_stem, mode = \"origin\")"
   ]
  },
  {
   "cell_type": "code",
   "execution_count": 50,
   "metadata": {},
   "outputs": [
    {
     "name": "stdout",
     "output_type": "stream",
     "text": [
      "희 집 근처에는 병원 있어?\n",
      "응, 난 엄청 근처에 있어.\n",
      "나는 차 타고 20분 거리에 있어.\n",
      "집 근처에 병원이 있으면 편리한 거 같아.\n",
      "왜 그렇게 생각하는 거야?\n",
      "언제 사고가 발생할지 모르잖아.\n",
      "사고가 나면 병원을 빨리 가는 게 중요해.\n",
      "나는 집 근처에 병원이 있어서 다행이야.\n",
      "20분 정도 거리면 나도 나름 가까운 거 같아.\n",
      "다음에 이사 가면 근처에 병원 있는지 꼭 확인해야겠어.\n",
      "------------------------------------------------------------------------------------------------------------------------------------------------------\n",
      "나도 참고해야지.\n",
      "미리 대비하는 모습 좋은 거 같아.\n",
      "나는 경유차가 첫차였어\n",
      "아 노후 경유차였구나\n",
      "노후 경유차면 운행이 쉽진 않지\n",
      "서울은 여기저기 감시 카메라가 많아가지고 끌고 다니기 힘들었어\n",
      "그러니깐 요즘은 블랙박스로 찍어서 신고도 많이하니깐\n",
      "요즘은 진짜 차 끌고 다닐때 조심해야돼\n",
      "맞어 블랙박스가 있어서 너무 좋으면서도 조심 또 조심해야돼\n",
      "너네는 단속카메라에 걸린적 없어?\n",
      "나 너무 많지 딱지 날라올때마다 피눈물이\n",
      "나도 주정차 단속이랑 과속 한번씩 있는데 진짜 눈물나\n",
      "나도 어디 갔다가 주차할때가 없어서 잠깐 세웠는데 과태료 날라오더라\n",
      "차가 편하기도 하면서 더 불편한 부분도 있어\n",
      "근데 단속 중이면 문자오는건가 ? 그런것도 있어\n",
      "그게 뭐야? 단소을 알려준다고?\n",
      "그런게 있어? 찾아봐야겠다\n",
      "너희 일할 때 mbti 뭐야?\n",
      "나는 해봤는데 ENTJ야.\n",
      "J들이 꼼꼼하고 계획적이긴 하지\n",
      "회사에서 칭찬 받겠다\n",
      "나는 덤벙대는 성격이라 부럽다\n",
      "우리 회사도 그런 사람 몇 명 있어\n",
      "------------------------------------------------------------------------------------------------------------------------------------------------------\n",
      "꼼꼼함이 장점인 사람이 존경스럽긴 하지\n",
      "열린 마인드라 좋았어.\n",
      "요즘은 꼰대 기준 나이도 낮더라\n",
      "내가 꼰대인가? 하는 순간 꼰대래\n",
      "모두가 기성세대가 되니까\n",
      "특히 회사에서 세대차이는 극복하기 어려운 것 같아\n",
      "아무래도 그렇게 모일 일이 없으니까\n",
      "맞아 인위적으로 모인 조직이지 회사는.\n",
      "어떻게 하면 덜 꼰대가 될 수 있을지 고민이다 참\n",
      "군대는 몇살부터 가는 걸까요?\n",
      "만 19세 이상부터 가는 걸로 알고 있는데\n",
      "20세부터 입영통지서 오는 거 아닌가요? 정확히는 모르겠네요.\n",
      "그럼 몇살까지 갈수 있어요?\n",
      "그렇게 세세하게 알고 싶지는 않아요 군대란 곳은\n",
      "28세 아닌가요. 모르겠네요. 알 수 없어요.\n",
      "갑자기 몇살부터 몇살까지 갈수 있는지 궁금했어요\n",
      "나이 맞으면 군대 갈 생각 있으신가 봐요\n",
      "누가 갈 사람이 있으신가봐요. 저도 가고 싶어요.\n",
      "네 여자이지만 가보고 싶습니다.\n",
      "키가 작어도 가기가 어려울 걸요\n",
      "키제한도 있군요. 몸은 힘들겠지만 아무 생각 안 할수 있을 것 같아요.\n",
      "이번에 수학 수행평가 뭔지 알아?\n",
      "들었었는데 까먹었어.\n",
      "코사인 법칙 증명하는 거일 거야.\n",
      "아, 나 이런 거 잘 못하는데.\n",
      "아 맞다, 증명하는 거였지.\n",
      "나도 이런 거 잘 못해.\n",
      "그냥 문제 푸는 게 더 나은데.\n",
      "맞아, 나도 그렇게 생각해.\n",
      "수학은 너무 어려운 거 같아.\n",
      "수행평가부터 너무 어려워 죽겠어.\n",
      "수학 선생님께 문제 푸는 걸로 바꿀 수 있는지 한 번 물어볼까?\n",
      "응, 물어봐. 제발 바뀌었으면 좋겠어.\n",
      "인정해, 증명하는 거는 너무 힘들고 어려워.\n",
      "------------------------------------------------------------------------------------------------------------------------------------------------------\n",
      "갑자기 할머니가 너무 보고 싶어요\n",
      "살아 계실때 잘할껄 후회중 입니다.\n",
      "저는 우리 어머니가 너무 보고 싶네요\n",
      "저도 너무 보고 싶어요. 할아버지도 보고 싶고요.\n",
      "살아 계실때는 평생 계실 것만 같아서 모르고 살았네요\n",
      "돌아가신 지 10년 정도 됐는데 너무 너무 보고 싶네요\n",
      "아직도 할머니가 해주신 김치가 남아있어요.\n",
      "네 저도 너무너무 그분들이 그립습니다.\n",
      "살아계실 때 사랑한단 말 좀 많이 할 걸 그랬어요\n",
      "할머니 음식도 너무 그리워요.\n",
      "------------------------------------------------------------------------------------------------------------------------------------------------------\n",
      "저도 저희 엄마 아빠께 사랑한다 말을 자주 해야 할 것 같아요\n",
      "그래서 아버지한테 많이 하고 있어요\n",
      "저도 자주 하고 있답니다. 오늘도 하고 왔어요.\n",
      "연애할 때 자주 보지 않아?\n",
      "우리 장거리라서 주말 밖에 못 봐\n",
      "헉 힘들겠다 장거리연애…\n",
      "주말 한 주 라도 일있으면 2주 만에 보네?\n",
      "응 맞아 얼마나 길게 느껴지는지\n",
      "헉 나도 장거리 해봐서 그 기분 알지\n",
      "얼마나 장거리 였는데?\n",
      "------------------------------------------------------------------------------------------------------------------------------------------------------\n"
     ]
    }
   ],
   "source": [
    "# Segment example 1 <= n1 < n2 <= 20\n",
    "def print_seg(tt, n1, n2):\n",
    "    n2 = min(len(tt), n2)\n",
    "    for i in range(n1-1, n2+1):\n",
    "        print(tt[i])\n",
    "        print(\"-\"*150)\n",
    "\n",
    "print_seg(band_cos_tt, 1, 4)"
   ]
  },
  {
   "cell_type": "code",
   "execution_count": 28,
   "metadata": {},
   "outputs": [],
   "source": [
    "def origin_pred(tt):\n",
    "    origin_label = [0]\n",
    "    for origin_t in tt:\n",
    "        origin_label.append(origin_label[-1] + len(origin_t.strip().split(\"\\n\\n\\t\")))\n",
    "\n",
    "    return origin_label[1:]\n",
    "\n",
    "def cos_pred(tt):\n",
    "    cos_label = [0]\n",
    "    for cos_t in tt:\n",
    "        cos_label.append(cos_label[-1] + len(cos_t.split(\"\\n\")))\n",
    "\n",
    "    return cos_label[1:]\n",
    "\n",
    "kakao_origin_pred = origin_pred(kakao_origin_tt)\n",
    "kakao_cos_pred = cos_pred(kakao_cos_tt)\n",
    "band_origin_pred = origin_pred(band_origin_tt)\n",
    "band_cos_pred = cos_pred(band_cos_tt)\n",
    "nate_origin_pred = origin_pred(nate_origin_tt)\n",
    "nate_cos_pred = cos_pred(nate_cos_tt)\n"
   ]
  },
  {
   "cell_type": "code",
   "execution_count": 29,
   "metadata": {},
   "outputs": [],
   "source": [
    "def load_label(data_name):\n",
    "    with open(dir_path + data_name+\"_label.txt\") as f:\n",
    "        label = [int(x) for x in f.readline().strip().split(\" \")]\n",
    "    return label\n",
    "\n",
    "kakao_label = load_label(\"kakao\")\n",
    "band_label = load_label(\"band\")\n",
    "nate_label = load_label(\"nate\")"
   ]
  },
  {
   "cell_type": "code",
   "execution_count": 30,
   "metadata": {},
   "outputs": [],
   "source": [
    "def draw_graph(label, cos_pred, origin_pred):\n",
    "    plt.figure(figsize=(20,2))\n",
    "    for i in (label):\n",
    "        plt.axvline(x = i, color=\"r\", linewidth = 1)\n",
    "    for i in (cos_pred):\n",
    "        plt.axvline(x = i, color=\"b\", linewidth = 1)\n",
    "    for i in (origin_pred):\n",
    "        plt.axvline(x = i, color=\"y\", linewidth = 1)\n",
    "    plt.show()"
   ]
  },
  {
   "attachments": {},
   "cell_type": "markdown",
   "metadata": {},
   "source": [
    "Red line -> label  \n",
    "Blue line -> cosine similarity method  \n",
    "Yellow line -> original method"
   ]
  },
  {
   "cell_type": "code",
   "execution_count": 31,
   "metadata": {},
   "outputs": [
    {
     "data": {
      "image/png": "[encoded data removed]",
      "text/plain": [
       "<Figure size 2000x200 with 1 Axes>"
      ]
     },
     "metadata": {},
     "output_type": "display_data"
    }
   ],
   "source": [
    "draw_graph(kakao_label, kakao_cos_pred, kakao_origin_pred)"
   ]
  },
  {
   "cell_type": "code",
   "execution_count": 32,
   "metadata": {},
   "outputs": [
    {
     "data": {
      "image/png": "[encoded data removed]",
      "text/plain": [
       "<Figure size 2000x200 with 1 Axes>"
      ]
     },
     "metadata": {},
     "output_type": "display_data"
    }
   ],
   "source": [
    "draw_graph(band_label, band_cos_pred, band_origin_pred)"
   ]
  },
  {
   "cell_type": "code",
   "execution_count": 33,
   "metadata": {},
   "outputs": [
    {
     "data": {
      "image/png": "[encoded data removed]",
      "text/plain": [
       "<Figure size 2000x200 with 1 Axes>"
      ]
     },
     "metadata": {},
     "output_type": "display_data"
    }
   ],
   "source": [
    "draw_graph(nate_label, nate_cos_pred, nate_origin_pred)"
   ]
  },
  {
   "cell_type": "code",
   "execution_count": 34,
   "metadata": {},
   "outputs": [
    {
     "name": "stdout",
     "output_type": "stream",
     "text": [
      "original texttiling kakao data score 0.30783582089552236\n",
      "cos similarity texttiling kakao data score 0.2891791044776119\n",
      "original texttiling band data scroe 0.3208955223880597\n",
      "cos similarity texttiling band data score 0.2947761194029851\n",
      "original texttiling nate data scroe 0.38076923076923075\n",
      "cos similarity texttiling nate data score 0.35384615384615387\n"
     ]
    }
   ],
   "source": [
    "def evaluate_windowdiff(label, pred, n):\n",
    "    label_s = \"\"\n",
    "    pred_s = \"\"\n",
    "    for i in range(max(label[-1], pred[-1])+1):\n",
    "        if i in label:\n",
    "            label_s += \"1\"\n",
    "        else:\n",
    "            label_s += \"0\"\n",
    "\n",
    "        if i in pred:\n",
    "            pred_s += \"1\"\n",
    "        else:\n",
    "            pred_s += \"0\"\n",
    "\n",
    "    return segmentation.windowdiff(label_s, pred_s, n)\n",
    "\n",
    "print(f'original texttiling kakao data score {evaluate_windowdiff(kakao_label, kakao_origin_pred, 3)}')\n",
    "print(f'cos similarity texttiling kakao data score {evaluate_windowdiff(kakao_label, kakao_cos_pred, 3)}')\n",
    "print(f'original texttiling band data scroe {evaluate_windowdiff(band_label, band_origin_pred, 3)}')\n",
    "print(f'cos similarity texttiling band data score {evaluate_windowdiff(band_label, band_cos_pred, 3)}')\n",
    "print(f'original texttiling nate data scroe {evaluate_windowdiff(nate_label, nate_origin_pred, 3)}')\n",
    "print(f'cos similarity texttiling nate data score {evaluate_windowdiff(nate_label, nate_cos_pred, 3)}')"
   ]
  }
 ],
 "metadata": {
  "kernelspec": {
   "display_name": "Python 3.8.2 64-bit ('3.8.2')",
   "language": "python",
   "name": "python3"
  },
  "language_info": {
   "codemirror_mode": {
    "name": "ipython",
    "version": 3
   },
   "file_extension": ".py",
   "mimetype": "text/x-python",
   "name": "python",
   "nbconvert_exporter": "python",
   "pygments_lexer": "ipython3",
   "version": "3.8.2"
  },
  "orig_nbformat": 4,
  "vscode": {
   "interpreter": {
    "hash": "b53045254e8a726d67e9aedd93b4694c7b0ba470b0e3efc589a91bac98bd4be9"
   }
  }
 },
 "nbformat": 4,
 "nbformat_minor": 2
}
